{
  "cells": [
    {
      "cell_type": "markdown",
      "metadata": {},
      "source": "## R notebook with R kernel\n\nSome literal R code which should not be evaluated\n```r\nstop(\"not evaluated\")\n```"
    },
    {
      "cell_type": "code",
      "execution_count": 1,
      "metadata": {
        "trusted": true
      },
      "outputs": [
        {
          "data": {
            "text/plain": "Loading tidyverse: ggplot2\nLoading tidyverse: tibble\nLoading tidyverse: tidyr\nLoading tidyverse: readr\nLoading tidyverse: purrr\nLoading tidyverse: dplyr\nConflicts with tidy packages ---------------------------------------------------\nfilter(): dplyr, stats\nlag():    dplyr, stats"
          },
          "execution_count": 1,
          "metadata": {},
          "output_type": "execute_result"
        }
      ],
      "source": "library(tidyverse)"
    },
    {
      "cell_type": "code",
      "execution_count": 2,
      "metadata": {
        "trusted": true
      },
      "outputs": [
        {
          "data": {
            "text/html": "<ol class=list-inline>\n\t<li>2</li>\n\t<li>4</li>\n\t<li>6</li>\n\t<li>8</li>\n\t<li>10</li>\n\t<li>12</li>\n\t<li>14</li>\n\t<li>16</li>\n\t<li>18</li>\n\t<li>20</li>\n\t<li>22</li>\n\t<li>24</li>\n\t<li>26</li>\n\t<li>28</li>\n\t<li>30</li>\n\t<li>32</li>\n\t<li>34</li>\n\t<li>36</li>\n\t<li>38</li>\n\t<li>40</li>\n</ol>\n",
            "text/latex": "\\begin{enumerate*}\n\\item 2\n\\item 4\n\\item 6\n\\item 8\n\\item 10\n\\item 12\n\\item 14\n\\item 16\n\\item 18\n\\item 20\n\\item 22\n\\item 24\n\\item 26\n\\item 28\n\\item 30\n\\item 32\n\\item 34\n\\item 36\n\\item 38\n\\item 40\n\\end{enumerate*}\n",
            "text/markdown": "1. 2\n2. 4\n3. 6\n4. 8\n5. 10\n6. 12\n7. 14\n8. 16\n9. 18\n10. 20\n11. 22\n12. 24\n13. 26\n14. 28\n15. 30\n16. 32\n17. 34\n18. 36\n19. 38\n20. 40\n\n\n",
            "text/plain": " [1]  2  4  6  8 10 12 14 16 18 20 22 24 26 28 30 32 34 36 38 40"
          },
          "metadata": {},
          "output_type": "display_data"
        }
      ],
      "source": "data = 1:20 * 2\ndata"
    },
    {
      "cell_type": "code",
      "execution_count": 3,
      "metadata": {
        "trusted": true
      },
      "outputs": [
        {
          "data": {
            "text/html": "<table>\n<thead><tr><th scope=col>x</th><th scope=col>data</th></tr></thead>\n<tbody>\n\t<tr><td> 1</td><td> 2</td></tr>\n\t<tr><td> 2</td><td> 4</td></tr>\n\t<tr><td> 3</td><td> 6</td></tr>\n\t<tr><td> 4</td><td> 8</td></tr>\n\t<tr><td> 5</td><td>10</td></tr>\n\t<tr><td> 6</td><td>12</td></tr>\n\t<tr><td> 7</td><td>14</td></tr>\n\t<tr><td> 8</td><td>16</td></tr>\n\t<tr><td> 9</td><td>18</td></tr>\n\t<tr><td>10</td><td>20</td></tr>\n\t<tr><td>11</td><td>22</td></tr>\n\t<tr><td>12</td><td>24</td></tr>\n\t<tr><td>13</td><td>26</td></tr>\n\t<tr><td>14</td><td>28</td></tr>\n\t<tr><td>15</td><td>30</td></tr>\n\t<tr><td>16</td><td>32</td></tr>\n\t<tr><td>17</td><td>34</td></tr>\n\t<tr><td>18</td><td>36</td></tr>\n\t<tr><td>19</td><td>38</td></tr>\n\t<tr><td>20</td><td>40</td></tr>\n</tbody>\n</table>\n",
            "text/latex": "\\begin{tabular}{r|ll}\n x & data\\\\\n\\hline\n\t  1 &  2\\\\\n\t  2 &  4\\\\\n\t  3 &  6\\\\\n\t  4 &  8\\\\\n\t  5 & 10\\\\\n\t  6 & 12\\\\\n\t  7 & 14\\\\\n\t  8 & 16\\\\\n\t  9 & 18\\\\\n\t 10 & 20\\\\\n\t 11 & 22\\\\\n\t 12 & 24\\\\\n\t 13 & 26\\\\\n\t 14 & 28\\\\\n\t 15 & 30\\\\\n\t 16 & 32\\\\\n\t 17 & 34\\\\\n\t 18 & 36\\\\\n\t 19 & 38\\\\\n\t 20 & 40\\\\\n\\end{tabular}\n",
            "text/markdown": "\nx | data | \n|---|---|---|---|---|---|---|---|---|---|---|---|---|---|---|---|---|---|---|---|\n|  1 |  2 | \n|  2 |  4 | \n|  3 |  6 | \n|  4 |  8 | \n|  5 | 10 | \n|  6 | 12 | \n|  7 | 14 | \n|  8 | 16 | \n|  9 | 18 | \n| 10 | 20 | \n| 11 | 22 | \n| 12 | 24 | \n| 13 | 26 | \n| 14 | 28 | \n| 15 | 30 | \n| 16 | 32 | \n| 17 | 34 | \n| 18 | 36 | \n| 19 | 38 | \n| 20 | 40 | \n\n\n",
            "text/plain": "   x  data\n1   1  2  \n2   2  4  \n3   3  6  \n4   4  8  \n5   5 10  \n6   6 12  \n7   7 14  \n8   8 16  \n9   9 18  \n10 10 20  \n11 11 22  \n12 12 24  \n13 13 26  \n14 14 28  \n15 15 30  \n16 16 32  \n17 17 34  \n18 18 36  \n19 19 38  \n20 20 40  "
          },
          "metadata": {},
          "output_type": "display_data"
        }
      ],
      "source": "df = tibble(x=1:20, data=data)\ndf"
    },
    {
      "cell_type": "code",
      "execution_count": 4,
      "metadata": {
        "trusted": true
      },
      "outputs": [
        {
          "data": {
            "image/png": "[encoded data removed]",
            "text/plain": "plot without title"
          },
          "metadata": {},
          "output_type": "display_data"
        }
      ],
      "source": "ggplot(df, aes(x=x, y=data)) + geom_bar(stat='identity')"
    }
  ],
  "metadata": {
    "kernelspec": {
      "display_name": "R",
      "language": "R",
      "name": "ir"
    },
    "language_info": {
      "codemirror_mode": "r",
      "file_extension": ".r",
      "mimetype": "text/x-r-source",
      "name": "R",
      "pygments_lexer": "r",
      "version": "3.4.2"
    },
    "output": "html_notebook"
  },
  "nbformat": 4,
  "nbformat_minor": 2
}